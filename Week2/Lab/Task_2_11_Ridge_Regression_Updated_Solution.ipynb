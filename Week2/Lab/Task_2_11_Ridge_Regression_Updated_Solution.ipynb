{
  "cells": [
    {
      "cell_type": "markdown",
      "metadata": {
        "id": "NQLADbcTW1da"
      },
      "source": [
        "# Task 2.11: Regression\n",
        "## Ridge Regression"
      ]
    },
    {
      "cell_type": "markdown",
      "metadata": {
        "id": "KQkfRhjjW1db"
      },
      "source": [
        "In this notebook we are going to implement ridge regression. You will be provided with some already complete code as well as some code that you should complete yourself. In particular, you will have to:\n",
        "\n",
        "* Complete the function `ridgeRegrNEW(X_train, y_train, alpha,X_test)` to implement ridge regression algorithm.\n",
        "\n"
      ]
    },
    {
      "cell_type": "markdown",
      "metadata": {
        "id": "V0T-NI0sW1dc"
      },
      "source": [
        "# Import libraries\n",
        "The required libraries for this notebook are pandas, sklearn, numpy and matplotlib."
      ]
    },
    {
      "cell_type": "code",
      "execution_count": 1,
      "metadata": {
        "collapsed": true,
        "id": "KRTOGnrYW1dc"
      },
      "outputs": [],
      "source": [
        "import matplotlib.pyplot as plt\n",
        "import numpy as np\n",
        "from pandas import *\n",
        "import pandas as pd\n",
        "from sklearn.datasets import fetch_california_housing, load_iris\n",
        "from sklearn.model_selection import train_test_split\n",
        "from sklearn.linear_model import Ridge, RidgeCV\n",
        "from sklearn.metrics import mean_squared_error"
      ]
    },
    {
      "cell_type": "markdown",
      "metadata": {
        "id": "IOOyRow7W1dc"
      },
      "source": [
        "# Load the data\n",
        "The data we are using is from Boston house-prices dataset, which we can access directly from the scikit learn library . It consists of 506 data points and 13 features."
      ]
    },
    {
      "cell_type": "code",
      "execution_count": 2,
      "metadata": {
        "colab": {
          "base_uri": "https://localhost:8080/",
          "height": 258
        },
        "id": "OJo6EmDOW1dc",
        "outputId": "87e8a087-c88e-4952-b71f-dcf7d71bd3e1"
      },
      "outputs": [
        {
          "name": "stdout",
          "output_type": "stream",
          "text": [
            "dict_keys(['data', 'target', 'frame', 'target_names', 'feature_names', 'DESCR'])\n",
            "(20640, 8)\n",
            "['MedInc', 'HouseAge', 'AveRooms', 'AveBedrms', 'Population', 'AveOccup', 'Latitude', 'Longitude']\n"
          ]
        },
        {
          "data": {
            "text/html": [
              "<div>\n",
              "<style scoped>\n",
              "    .dataframe tbody tr th:only-of-type {\n",
              "        vertical-align: middle;\n",
              "    }\n",
              "\n",
              "    .dataframe tbody tr th {\n",
              "        vertical-align: top;\n",
              "    }\n",
              "\n",
              "    .dataframe thead th {\n",
              "        text-align: right;\n",
              "    }\n",
              "</style>\n",
              "<table border=\"1\" class=\"dataframe\">\n",
              "  <thead>\n",
              "    <tr style=\"text-align: right;\">\n",
              "      <th></th>\n",
              "      <th>MedInc</th>\n",
              "      <th>HouseAge</th>\n",
              "      <th>AveRooms</th>\n",
              "      <th>AveBedrms</th>\n",
              "      <th>Population</th>\n",
              "      <th>AveOccup</th>\n",
              "      <th>Latitude</th>\n",
              "      <th>Longitude</th>\n",
              "      <th>Price</th>\n",
              "    </tr>\n",
              "  </thead>\n",
              "  <tbody>\n",
              "    <tr>\n",
              "      <th>0</th>\n",
              "      <td>8.3252</td>\n",
              "      <td>41.0</td>\n",
              "      <td>6.984127</td>\n",
              "      <td>1.023810</td>\n",
              "      <td>322.0</td>\n",
              "      <td>2.555556</td>\n",
              "      <td>37.88</td>\n",
              "      <td>-122.23</td>\n",
              "      <td>4.526</td>\n",
              "    </tr>\n",
              "    <tr>\n",
              "      <th>1</th>\n",
              "      <td>8.3014</td>\n",
              "      <td>21.0</td>\n",
              "      <td>6.238137</td>\n",
              "      <td>0.971880</td>\n",
              "      <td>2401.0</td>\n",
              "      <td>2.109842</td>\n",
              "      <td>37.86</td>\n",
              "      <td>-122.22</td>\n",
              "      <td>3.585</td>\n",
              "    </tr>\n",
              "    <tr>\n",
              "      <th>2</th>\n",
              "      <td>7.2574</td>\n",
              "      <td>52.0</td>\n",
              "      <td>8.288136</td>\n",
              "      <td>1.073446</td>\n",
              "      <td>496.0</td>\n",
              "      <td>2.802260</td>\n",
              "      <td>37.85</td>\n",
              "      <td>-122.24</td>\n",
              "      <td>3.521</td>\n",
              "    </tr>\n",
              "    <tr>\n",
              "      <th>3</th>\n",
              "      <td>5.6431</td>\n",
              "      <td>52.0</td>\n",
              "      <td>5.817352</td>\n",
              "      <td>1.073059</td>\n",
              "      <td>558.0</td>\n",
              "      <td>2.547945</td>\n",
              "      <td>37.85</td>\n",
              "      <td>-122.25</td>\n",
              "      <td>3.413</td>\n",
              "    </tr>\n",
              "    <tr>\n",
              "      <th>4</th>\n",
              "      <td>3.8462</td>\n",
              "      <td>52.0</td>\n",
              "      <td>6.281853</td>\n",
              "      <td>1.081081</td>\n",
              "      <td>565.0</td>\n",
              "      <td>2.181467</td>\n",
              "      <td>37.85</td>\n",
              "      <td>-122.25</td>\n",
              "      <td>3.422</td>\n",
              "    </tr>\n",
              "  </tbody>\n",
              "</table>\n",
              "</div>"
            ],
            "text/plain": [
              "   MedInc  HouseAge  AveRooms  AveBedrms  Population  AveOccup  Latitude  \\\n",
              "0  8.3252      41.0  6.984127   1.023810       322.0  2.555556     37.88   \n",
              "1  8.3014      21.0  6.238137   0.971880      2401.0  2.109842     37.86   \n",
              "2  7.2574      52.0  8.288136   1.073446       496.0  2.802260     37.85   \n",
              "3  5.6431      52.0  5.817352   1.073059       558.0  2.547945     37.85   \n",
              "4  3.8462      52.0  6.281853   1.081081       565.0  2.181467     37.85   \n",
              "\n",
              "   Longitude  Price  \n",
              "0    -122.23  4.526  \n",
              "1    -122.22  3.585  \n",
              "2    -122.24  3.521  \n",
              "3    -122.25  3.413  \n",
              "4    -122.25  3.422  "
            ]
          },
          "execution_count": 2,
          "metadata": {},
          "output_type": "execute_result"
        }
      ],
      "source": [
        "#add another column that contains the house prices which in scikit learn datasets are considered as target\n",
        "california = fetch_california_housing()\n",
        "print(california.keys()) # california variable itself is a dictionary, so we can check for its keys\n",
        "print(california.data.shape) # shape of data\n",
        "print(california.feature_names)\n",
        "california_df=pd.DataFrame(california.data,columns=california.feature_names) # convert the california.data to a a dataframe\n",
        "california_df['Price']=california.target # there is no column called ‘PRICE’ in the data frame because the target column is available in another attribute called target\n",
        "newX=california_df.drop('Price',axis=1) # All other features\n",
        "newY=california_df['Price'] # California Housing Price\n",
        "california_df.head()\n"
      ]
    },
    {
      "cell_type": "code",
      "execution_count": 3,
      "metadata": {
        "colab": {
          "base_uri": "https://localhost:8080/"
        },
        "id": "aC_gM-MmW1dd",
        "outputId": "a322eaf1-3098-4d11-b757-28120f221abf"
      },
      "outputs": [
        {
          "name": "stdout",
          "output_type": "stream",
          "text": [
            "train set: 0.7  | test set: 0.3\n"
          ]
        }
      ],
      "source": [
        "X_train,X_test,y_train,y_test=train_test_split(newX,newY,test_size=0.3,random_state=3)\n",
        "#test_size= should be between 0.0 and 1.0 and represent the proportion of the dataset to include in the test split\n",
        "#everytime you run it without specifying random_state, you will get a different result, this is expected behavior\n",
        "#print (len(X_test), len(y_test))\n",
        "\n",
        "print('train set: {}  | test set: {}'.format(round(len(y_train)/len(newX),2),\n",
        "                                                       round(len(y_test)/len(newX),2)))"
      ]
    },
    {
      "cell_type": "markdown",
      "metadata": {
        "id": "wnbhNMv_W1de"
      },
      "source": [
        "# Use ridge regression from a library\n",
        "We will first see how ridge regression can be implemented using already available functions from the scikit-learn library."
      ]
    },
    {
      "cell_type": "code",
      "execution_count": 4,
      "metadata": {
        "colab": {
          "base_uri": "https://localhost:8080/",
          "height": 483
        },
        "collapsed": true,
        "id": "6RGGEFgFW1de",
        "outputId": "10000a9b-8642-4e13-ae3f-d35acec47497"
      },
      "outputs": [
        {
          "name": "stderr",
          "output_type": "stream",
          "text": [
            "<>:16: SyntaxWarning: invalid escape sequence '\\h'\n",
            "<>:17: SyntaxWarning: invalid escape sequence '\\h'\n",
            "<>:16: SyntaxWarning: invalid escape sequence '\\h'\n",
            "<>:17: SyntaxWarning: invalid escape sequence '\\h'\n",
            "/var/folders/kf/11922h0128jc1lsq8xpxlln80000gn/T/ipykernel_6231/3621876683.py:16: SyntaxWarning: invalid escape sequence '\\h'\n",
            "  plt.ylabel(\"Predicted prices: $\\hat{Y}_i$\")\n",
            "/var/folders/kf/11922h0128jc1lsq8xpxlln80000gn/T/ipykernel_6231/3621876683.py:17: SyntaxWarning: invalid escape sequence '\\h'\n",
            "  plt.title(\"Actual prices vs Predicted prices: $Y_i$ vs $\\hat{Y}_i$\")\n"
          ]
        },
        {
          "data": {
            "image/png": "[encoded data removed]",
            "text/plain": [
              "<Figure size 640x480 with 1 Axes>"
            ]
          },
          "metadata": {},
          "output_type": "display_data"
        }
      ],
      "source": [
        "def ridgeRegr(X_train, y_train, X_test):\n",
        "\n",
        "    #Create linear regression object with a ridge coefficient 0.1\n",
        "    ridge_regr_model = Ridge(alpha=0.1,fit_intercept=True)\n",
        "    ridge_regr_model.fit(X_train, y_train) # Fit Ridge regression model\n",
        "\n",
        "\n",
        "    Y_pred = ridge_regr_model.predict(X_test)\n",
        "    #print (Y_pred)\n",
        "    return Y_pred\n",
        "\n",
        "Y_pred=ridgeRegr(X_train, y_train, X_test)\n",
        "\n",
        "plt.scatter(y_test, Y_pred)\n",
        "plt.xlabel(\"Actual prices: $Y_i$\")\n",
        "plt.ylabel(\"Predicted prices: $\\hat{Y}_i$\")\n",
        "plt.title(\"Actual prices vs Predicted prices: $Y_i$ vs $\\hat{Y}_i$\")\n",
        "plt.show() #Ideally, the scatter plot should create a linear line. Since the model does not fit 100%, the scatter plot is not creating a linear line.\n",
        "\n"
      ]
    },
    {
      "cell_type": "markdown",
      "metadata": {
        "id": "Ob-yKT9DW1de"
      },
      "source": [
        "# Implement your own ridge regression function"
      ]
    },
    {
      "cell_type": "markdown",
      "metadata": {
        "id": "1Sm4XrXNW1de"
      },
      "source": [
        "You will be given the `paramEstimate(xTrain, yTrain, alpha)` function estimates the parameters of the ridge regressor.\n",
        "Remember that ridge regression solves a linear regression problem based on a loss function consisting of the sum of squared error and a regularizer. In particular, the loss function is given by:\n",
        "\n",
        "\\begin{align}\n",
        "||y - \\sum{\\beta_j}x_j||^2 + λ\\sum{\\beta_j}^2\n",
        "\\end{align}\n",
        "\n",
        "\n",
        "\n",
        "Note: we train on `X_train` and `y_train`!"
      ]
    },
    {
      "cell_type": "code",
      "execution_count": 5,
      "metadata": {
        "collapsed": true,
        "id": "m8ZxmKv5W1de"
      },
      "outputs": [],
      "source": [
        "def paramEstimate(X_train, y_train, alpha):\n",
        "    n, d = X_train.shape\n",
        "    I = np.identity(d)\n",
        "    L = np.dot(alpha, I) + np.dot(X_train.transpose(), X_train)\n",
        "    L_1 = np.linalg.inv(L)\n",
        "    w_rr = L_1.dot(X_train.transpose()).dot(y_train)\n",
        "    return w_rr\n",
        "\n",
        "def ridgeRegrNEW(xTrain, yTrain, alpha,X_test):\n",
        "    w_rr=paramEstimate(xTrain, yTrain, alpha)\n",
        "    y_pred= np.dot(X_test, w_rr)\n",
        "    return y_pred\n",
        "\n"
      ]
    },
    {
      "cell_type": "code",
      "execution_count": 6,
      "metadata": {
        "colab": {
          "base_uri": "https://localhost:8080/",
          "height": 483
        },
        "id": "pxHzg0RjW1df",
        "outputId": "447fc83a-d3a2-4b3e-f982-1f590cb8c263"
      },
      "outputs": [
        {
          "name": "stderr",
          "output_type": "stream",
          "text": [
            "<>:5: SyntaxWarning: invalid escape sequence '\\h'\n",
            "<>:6: SyntaxWarning: invalid escape sequence '\\h'\n",
            "<>:5: SyntaxWarning: invalid escape sequence '\\h'\n",
            "<>:6: SyntaxWarning: invalid escape sequence '\\h'\n",
            "/var/folders/kf/11922h0128jc1lsq8xpxlln80000gn/T/ipykernel_6231/2575495417.py:5: SyntaxWarning: invalid escape sequence '\\h'\n",
            "  plt.ylabel(\"Predicted prices: $\\hat{Y}_i$\")\n",
            "/var/folders/kf/11922h0128jc1lsq8xpxlln80000gn/T/ipykernel_6231/2575495417.py:6: SyntaxWarning: invalid escape sequence '\\h'\n",
            "  plt.title(\"Actual prices vs Predicted prices: $Y_i$ vs $\\hat{Y}_i$\")\n"
          ]
        },
        {
          "data": {
            "image/png": "[encoded data removed]",
            "text/plain": [
              "<Figure size 640x480 with 1 Axes>"
            ]
          },
          "metadata": {},
          "output_type": "display_data"
        }
      ],
      "source": [
        "y_pred = ridgeRegrNEW(X_train, y_train, 0.1,X_test)\n",
        "\n",
        "plt.scatter(y_test, y_pred)\n",
        "plt.xlabel(\"Actual prices: $Y_i$\")\n",
        "plt.ylabel(\"Predicted prices: $\\hat{Y}_i$\")\n",
        "plt.title(\"Actual prices vs Predicted prices: $Y_i$ vs $\\hat{Y}_i$\")\n",
        "plt.show()\n"
      ]
    },
    {
      "cell_type": "markdown",
      "metadata": {
        "id": "WRZxwv2YW1df"
      },
      "source": [
        " You can compare the two models using MSE:"
      ]
    },
    {
      "cell_type": "code",
      "execution_count": 7,
      "metadata": {
        "colab": {
          "base_uri": "https://localhost:8080/"
        },
        "id": "dT68Vqc_W1df",
        "outputId": "e7e15ecb-c27a-4d24-ff22-1bc469ab6a5a",
        "pycharm": {
          "name": "#%%\n"
        }
      },
      "outputs": [
        {
          "name": "stdout",
          "output_type": "stream",
          "text": [
            "Mean Squared Error (MSE) on test set (built-in model): 0.532338811848025\n",
            "Mean Squared Error (MSE) on test set (from scratch model): 0.6060701505606142\n"
          ]
        }
      ],
      "source": [
        "mse = mean_squared_error(y_test, Y_pred) # check the level of error of a model\n",
        "print('Mean Squared Error (MSE) on test set (built-in model): '+str(mse))\n",
        "mse2=mean_squared_error(y_test, y_pred)\n",
        "print('Mean Squared Error (MSE) on test set (from scratch model): '+ str(mse2))\n"
      ]
    }
  ],
  "metadata": {
    "colab": {
      "provenance": []
    },
    "kernelspec": {
      "display_name": "lab",
      "language": "python",
      "name": "python3"
    },
    "language_info": {
      "codemirror_mode": {
        "name": "ipython",
        "version": 3
      },
      "file_extension": ".py",
      "mimetype": "text/x-python",
      "name": "python",
      "nbconvert_exporter": "python",
      "pygments_lexer": "ipython3",
      "version": "3.12.7"
    }
  },
  "nbformat": 4,
  "nbformat_minor": 0
}
