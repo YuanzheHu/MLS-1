{
  "nbformat": 4,
  "nbformat_minor": 0,
  "metadata": {
    "kernelspec": {
      "display_name": "Python 3",
      "language": "python",
      "name": "python3"
    },
    "language_info": {
      "codemirror_mode": {
        "name": "ipython",
        "version": 3
      },
      "file_extension": ".py",
      "mimetype": "text/x-python",
      "name": "python",
      "nbconvert_exporter": "python",
      "pygments_lexer": "ipython3",
      "version": "3.7.8"
    },
    "colab": {
      "name": "Task4.9-EnsembleMethods (1).ipynb",
      "provenance": [],
      "collapsed_sections": []
    }
  },
  "cells": [
    {
      "cell_type": "markdown",
      "metadata": {
        "id": "epStHkA26jY1"
      },
      "source": [
        "# Task 4.9: Ensemble Methods\n",
        "    Boosting and Bagging Techniques"
      ]
    },
    {
      "cell_type": "markdown",
      "metadata": {
        "id": "U7-DaH_m6jY5"
      },
      "source": [
        "In this notebook we are going to implement ensemble methods including boosting and bagging techniques using built-in Scikit Library functions.\n",
        " You will be provided with some already complete code as well as some coding task that you should complete yourself. In particular, you will have to:\n",
        "\n",
        "* complete the function `BaggingClassifierML(X_train, y_train, X_test, k)` that will make use of the pre-built implementation of Bagging techniques.\n",
        "* complete the function `BoostingClassifierML(X_train, y_train, X_test, k)` that will make use of the pre-built implementation of Bagging techniques.\n",
        "* Tune Number of estimator in ensemble methods\n",
        "* Compare the ensemble methods with KNN\n",
        "\n"
      ]
    },
    {
      "cell_type": "markdown",
      "metadata": {
        "id": "a9uUl9Eg6jY6"
      },
      "source": [
        "## 1.Import libraries\n",
        "The required libraries for this notebook are pandas, sklearn, numpy and matplotlib."
      ]
    },
    {
      "cell_type": "code",
      "metadata": {
        "tags": [],
        "id": "KR3uw6Zk6jY7"
      },
      "source": [
        "import matplotlib.pyplot as plt\n",
        "import numpy as np\n",
        "from pandas import *\n",
        "import pandas as pd\n",
        "from sklearn.datasets import  load_iris\n",
        "from sklearn.model_selection import train_test_split\n",
        "from sklearn.neighbors import KNeighborsClassifier\n",
        "from sklearn.ensemble import BaggingClassifier\n",
        "from sklearn.ensemble import AdaBoostClassifier\n",
        "from sklearn import metrics"
      ],
      "execution_count": 1,
      "outputs": []
    },
    {
      "cell_type": "markdown",
      "metadata": {
        "id": "T8JpuTHU6jY8"
      },
      "source": [
        "## 2.Load the data\n",
        "The data we are using is from iris dataset, which we can access directly from the scikit learn library . It consists of 150 data points and 4 features."
      ]
    },
    {
      "cell_type": "code",
      "metadata": {
        "colab": {
          "base_uri": "https://localhost:8080/",
          "height": 241
        },
        "id": "RXXF0S1o6jY9",
        "outputId": "db2c554b-b7ed-4e1a-f303-d596c2aa5f68"
      },
      "source": [
        "#add another column that contains the house prices which in scikit learn datasets are considered as target\n",
        "irisData=load_iris() # get the data\n",
        "print(irisData.data.shape) # shape of data: 150 data points and 4 features\n",
        "print(irisData.feature_names)# Feature_names of data\n",
        "irisData_df=pd.DataFrame(irisData.data,columns=irisData.feature_names) # convert the irisData.data to a a dataframe\n",
        "irisData_df['Species']=irisData.target # there is no column called ‘Species’ in the data frame because the target column is available in another attribute called target\n",
        "newX=irisData_df.drop('Species',axis=1) # All other features\n",
        "newY=irisData_df['Species'] # Species types\n",
        "irisData_df.head()\n"
      ],
      "execution_count": 2,
      "outputs": [
        {
          "output_type": "stream",
          "name": "stdout",
          "text": [
            "(150, 4)\n",
            "['sepal length (cm)', 'sepal width (cm)', 'petal length (cm)', 'petal width (cm)']\n"
          ]
        },
        {
          "output_type": "execute_result",
          "data": {
            "text/html": [
              "<div>\n",
              "<style scoped>\n",
              "    .dataframe tbody tr th:only-of-type {\n",
              "        vertical-align: middle;\n",
              "    }\n",
              "\n",
              "    .dataframe tbody tr th {\n",
              "        vertical-align: top;\n",
              "    }\n",
              "\n",
              "    .dataframe thead th {\n",
              "        text-align: right;\n",
              "    }\n",
              "</style>\n",
              "<table border=\"1\" class=\"dataframe\">\n",
              "  <thead>\n",
              "    <tr style=\"text-align: right;\">\n",
              "      <th></th>\n",
              "      <th>sepal length (cm)</th>\n",
              "      <th>sepal width (cm)</th>\n",
              "      <th>petal length (cm)</th>\n",
              "      <th>petal width (cm)</th>\n",
              "      <th>Species</th>\n",
              "    </tr>\n",
              "  </thead>\n",
              "  <tbody>\n",
              "    <tr>\n",
              "      <th>0</th>\n",
              "      <td>5.1</td>\n",
              "      <td>3.5</td>\n",
              "      <td>1.4</td>\n",
              "      <td>0.2</td>\n",
              "      <td>0</td>\n",
              "    </tr>\n",
              "    <tr>\n",
              "      <th>1</th>\n",
              "      <td>4.9</td>\n",
              "      <td>3.0</td>\n",
              "      <td>1.4</td>\n",
              "      <td>0.2</td>\n",
              "      <td>0</td>\n",
              "    </tr>\n",
              "    <tr>\n",
              "      <th>2</th>\n",
              "      <td>4.7</td>\n",
              "      <td>3.2</td>\n",
              "      <td>1.3</td>\n",
              "      <td>0.2</td>\n",
              "      <td>0</td>\n",
              "    </tr>\n",
              "    <tr>\n",
              "      <th>3</th>\n",
              "      <td>4.6</td>\n",
              "      <td>3.1</td>\n",
              "      <td>1.5</td>\n",
              "      <td>0.2</td>\n",
              "      <td>0</td>\n",
              "    </tr>\n",
              "    <tr>\n",
              "      <th>4</th>\n",
              "      <td>5.0</td>\n",
              "      <td>3.6</td>\n",
              "      <td>1.4</td>\n",
              "      <td>0.2</td>\n",
              "      <td>0</td>\n",
              "    </tr>\n",
              "  </tbody>\n",
              "</table>\n",
              "</div>"
            ],
            "text/plain": [
              "   sepal length (cm)  sepal width (cm)  ...  petal width (cm)  Species\n",
              "0                5.1               3.5  ...               0.2        0\n",
              "1                4.9               3.0  ...               0.2        0\n",
              "2                4.7               3.2  ...               0.2        0\n",
              "3                4.6               3.1  ...               0.2        0\n",
              "4                5.0               3.6  ...               0.2        0\n",
              "\n",
              "[5 rows x 5 columns]"
            ]
          },
          "metadata": {},
          "execution_count": 2
        }
      ]
    },
    {
      "cell_type": "code",
      "metadata": {
        "colab": {
          "base_uri": "https://localhost:8080/"
        },
        "id": "pu3IMXsm6jY9",
        "outputId": "16c4ccce-9a54-401a-ff29-3756f2c8f285"
      },
      "source": [
        "X_train,X_test,y_train,y_test=train_test_split(newX,newY,test_size=0.3,random_state=3) \n",
        "#test_size= should be between 0.0 and 1.0 and represent the proportion of the dataset to include in the test split\n",
        "#everytime you run it without specifying random_state, you will get a different result, this is expected behavior\n",
        "#print (len(X_test), len(y_test))\n",
        "\n",
        "print('train set: {}  | test set: {}'.format(round(((len(y_train)*1.0)/len(newX)),3),\n",
        "                                                       round((len(y_test)*1.0)/len(newX),3)))\n"
      ],
      "execution_count": 3,
      "outputs": [
        {
          "output_type": "stream",
          "name": "stdout",
          "text": [
            "train set: 0.7  | test set: 0.3\n"
          ]
        }
      ]
    },
    {
      "cell_type": "markdown",
      "metadata": {
        "id": "ctT_24qK6jY-"
      },
      "source": [
        "## 3. Complete the function baggingClassifierML by using Bagging classifier built-in function.\n",
        "Let's find how Bagging Classifier technique can be implemented using already available functions from the scikit-learn library."
      ]
    },
    {
      "cell_type": "code",
      "metadata": {
        "pycharm": {
          "name": "#%%\n"
        },
        "id": "Vq8n-fea6jY_"
      },
      "source": [
        "def baggingClassifierML(X_train, y_train, X_test,k):\n",
        "\n",
        "    #Create KNN object with a K coefficient\n",
        "    bagmodel=BaggingClassifier(n_estimators=k,max_samples=0.5, max_features=4,random_state=1)\n",
        "    bagmodel.fit(X_train, y_train) # Fit KNN model\n",
        "\n",
        "\n",
        "    Y_pred = bagmodel.predict(X_test)\n",
        "    #print (Y_pred)\n",
        "    return Y_pred"
      ],
      "execution_count": 4,
      "outputs": []
    },
    {
      "cell_type": "markdown",
      "metadata": {
        "id": "nQJ4MCWT6jY_"
      },
      "source": [
        "## 4. Your task: Now compute the prediction accuracy score for Bagging technique\n",
        "The accuracy score metric is as follows:\n",
        "\\begin{align}\n",
        "accuracy(y,\\hat{y})=\\frac{1}{n}\\sum_{i=1}^{n} 1(\\hat{y}_i=y_i)\n",
        "\\end{align}"
      ]
    },
    {
      "cell_type": "code",
      "metadata": {
        "jupyter": {
          "outputs_hidden": false
        },
        "pycharm": {
          "name": "#%%\n"
        },
        "colab": {
          "base_uri": "https://localhost:8080/"
        },
        "id": "1ZAEIS3K6jZA",
        "outputId": "a04b9919-391b-4482-e2d5-8aeefdb8ca25"
      },
      "source": [
        "Y_pred=baggingClassifierML(X_train, y_train, X_test,9)\n",
        "score=metrics.accuracy_score(y_test,Y_pred)\n",
        "print(score)"
      ],
      "execution_count": 5,
      "outputs": [
        {
          "output_type": "stream",
          "name": "stdout",
          "text": [
            "0.9777777777777777\n"
          ]
        }
      ]
    },
    {
      "cell_type": "markdown",
      "metadata": {
        "id": "JFbZj6n_6jZA"
      },
      "source": [
        "## 5. Complete the function boostingClassifierML by using Boosting classifier built-in function.\n",
        "\n",
        "AdaBoost (Adaptive Boosting) is a very popular boosting technique that aims at combining multiple weak classifiers to build one strong classifier.\n",
        "Let's find how adaptive Boosting Classifier technique can be implemented using already available functions from the scikit-learn library."
      ]
    },
    {
      "cell_type": "code",
      "metadata": {
        "jupyter": {
          "outputs_hidden": false
        },
        "pycharm": {
          "name": "#%%\n"
        },
        "id": "7Ptk_kWB6jZA"
      },
      "source": [
        "def boostingClassifierML(X_train, y_train, X_test,k):\n",
        "    # AdaBoost takes Decision Tree as its base-estimator model by default.\n",
        "    boostmodel=AdaBoostClassifier(n_estimators=k)\n",
        "    boostmodel.fit(X_train , y_train,sample_weight=None) # Fit KNN model\n",
        "\n",
        "\n",
        "    Y_pred = boostmodel.predict(X_test)\n",
        "    #print (Y_pred)\n",
        "    return Y_pred"
      ],
      "execution_count": 6,
      "outputs": []
    },
    {
      "cell_type": "markdown",
      "metadata": {
        "id": "oQGdGdlv6jZB"
      },
      "source": [
        "## 6. Your task: Now compute the prediction accuracy score for AdaBoosting technique\n",
        "The accuracy score metric is as follows:\n",
        "\\begin{align}\n",
        "accuracy(y,\\hat{y})=\\frac{1}{n}\\sum_{i=1}^{n} 1(\\hat{y}_i=y_i)\n",
        "\\end{align}\n",
        "Now Let's compute the accuracy metric for Adaboosting technique."
      ]
    },
    {
      "cell_type": "code",
      "metadata": {
        "jupyter": {
          "outputs_hidden": false
        },
        "pycharm": {
          "name": "#%%\n"
        },
        "colab": {
          "base_uri": "https://localhost:8080/"
        },
        "id": "bcbJzGqQ6jZB",
        "outputId": "551b4fd8-3023-44e8-f7d1-4e6a57f4f4a0"
      },
      "source": [
        "Y_pred1=boostingClassifierML(X_train, y_train, X_test, 9)\n",
        "score1=metrics.accuracy_score(y_test,Y_pred1)\n",
        "print(score1)"
      ],
      "execution_count": 7,
      "outputs": [
        {
          "output_type": "stream",
          "name": "stdout",
          "text": [
            "0.9333333333333333\n"
          ]
        }
      ]
    },
    {
      "cell_type": "markdown",
      "metadata": {
        "id": "EaUU4mBv6jZB"
      },
      "source": [
        "## 7. Your task: Tune number of estimators\n",
        "Plot the accuracy metric versus number of base estimator in boosting and bagging ensemble methods.\n",
        "Tune the number of base estimator for better accuracy."
      ]
    },
    {
      "cell_type": "code",
      "metadata": {
        "id": "8Uz2UD-xlyG4"
      },
      "source": [
        "score_list=[]\n",
        "\n",
        "for i in range(1,25):\n",
        "    Y_pred_i=baggingClassifierML(X_train, y_train, X_test, i)\n",
        "    score_list.append(metrics.accuracy_score(y_test,Y_pred_i))"
      ],
      "execution_count": 8,
      "outputs": []
    },
    {
      "cell_type": "code",
      "metadata": {
        "colab": {
          "base_uri": "https://localhost:8080/",
          "height": 295
        },
        "id": "z7c5HSjkl3Jo",
        "outputId": "43760044-d568-40d7-eff9-dc30da9db732"
      },
      "source": [
        "plt.plot(range(1,25),score_list,color='pink', linestyle='dashed', marker='o', markerfacecolor='grey',markersize=10)\n",
        "plt.title(\"Accuracy vs. K Value\")\n",
        "plt.xlabel(\"K\")\n",
        "plt.ylabel(\"Accuracy\")\n",
        "plt.show()"
      ],
      "execution_count": 9,
      "outputs": [
        {
          "output_type": "display_data",
          "data": {
            "image/png": "[encoded data removed]",
            "text/plain": [
              "<Figure size 432x288 with 1 Axes>"
            ]
          },
          "metadata": {
            "needs_background": "light"
          }
        }
      ]
    },
    {
      "cell_type": "code",
      "metadata": {
        "id": "rxYjEu11lMX2"
      },
      "source": [
        "score_list=[]\n",
        "\n",
        "for i in range(1,25):\n",
        "    Y_pred1_i=boostingClassifierML(X_train, y_train, X_test, i)\n",
        "    score_list.append(metrics.accuracy_score(y_test,Y_pred1_i))"
      ],
      "execution_count": 10,
      "outputs": []
    },
    {
      "cell_type": "code",
      "metadata": {
        "colab": {
          "base_uri": "https://localhost:8080/",
          "height": 295
        },
        "id": "OXp7CZHSlhoU",
        "outputId": "6cec6193-5806-4a3e-d66b-60391e7a67d7"
      },
      "source": [
        "plt.plot(range(1,25),score_list,color='pink', linestyle='dashed', marker='o', markerfacecolor='grey',markersize=10)\n",
        "plt.title(\"Accuracy vs. K Value\")\n",
        "plt.xlabel(\"K\")\n",
        "plt.ylabel(\"Accuracy\")\n",
        "plt.show()"
      ],
      "execution_count": 11,
      "outputs": [
        {
          "output_type": "display_data",
          "data": {
            "image/png": "[encoded data removed]",
            "text/plain": [
              "<Figure size 432x288 with 1 Axes>"
            ]
          },
          "metadata": {
            "needs_background": "light"
          }
        }
      ]
    },
    {
      "cell_type": "markdown",
      "metadata": {
        "id": "7qBjXifZ6jZB"
      },
      "source": [
        "## 8. Your task: Compare with KNN\n",
        "As you know, ensemble methods including boosting and bagging are used for building a strong classifier.\n",
        "Now, you should compare the result of ensemble methods with KNN in task 4.3 ."
      ]
    },
    {
      "cell_type": "markdown",
      "metadata": {
        "id": "3S18boC76jZC"
      },
      "source": [
        "## Congrats!\n",
        "Now you have learned how to implement Boosting and Bagging algorithms. There are of course various interesting points we do not cover here, such as  fine tuning various hyper-parameters of boosting and bagging algorithms. With the skills you learned above, you can try it yourselves.\n",
        "You can also compare the ensemble methods with other base learners like Decision Tree and Random Forest.\n",
        "\n"
      ]
    },
    {
      "cell_type": "code",
      "metadata": {
        "id": "zyuW5nTj6jZC"
      },
      "source": [
        ""
      ],
      "execution_count": 11,
      "outputs": []
    }
  ]
}