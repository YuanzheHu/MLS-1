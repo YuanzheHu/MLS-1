{
 "cells": [
  {
   "cell_type": "markdown",
   "metadata": {},
   "source": [
    "#  Multivariate Regression(GD)"
   ]
  },
  {
   "cell_type": "markdown",
   "metadata": {},
   "source": [
    "In this notebook we are going to implement multivariate regression(gradient descent version). In particular, you will have to:\n",
    "\n",
    "* Complete the function `cost_function` to implement cost function for multivariate regression(gradient descent version) algorithm.\n",
    "* Complete the function `GDmultiLinparamEstimates` to implement multivariate regression(gradient descent version) algorithm.\n"
   ]
  },
  {
   "cell_type": "markdown",
   "metadata": {},
   "source": [
    "# Import libraries"
   ]
  },
  {
   "cell_type": "markdown",
   "metadata": {},
   "source": [
    "The required libraries for this notebook are pandas, sklearn and numpy."
   ]
  },
  {
   "cell_type": "code",
   "execution_count": 2,
   "metadata": {},
   "outputs": [],
   "source": [
    "# import libraries\n",
    "import pandas\n",
    "import numpy as np\n",
    "from sklearn.linear_model import LinearRegression\n",
    "from sklearn.model_selection import train_test_split"
   ]
  },
  {
   "cell_type": "markdown",
   "metadata": {},
   "source": [
    "# Load the data\n",
    "The data we are using is from ***multi_regr_data.csv***. It consists of 1000 data related to student marks. Each data point has 3 columns(marks) and we are going to use all of them for multivariate linear regression. In particular, we will use the first 2 marks to predict the 3rd mark.\n"
   ]
  },
  {
   "cell_type": "code",
   "execution_count": 3,
   "metadata": {},
   "outputs": [
    {
     "name": "stdout",
     "output_type": "stream",
     "text": [
      "(1000, 3)\n"
     ]
    }
   ],
   "source": [
    "# Loading the CSV file\n",
    "dataset=pandas.read_csv('./datasets/multi_regr_data.csv')\n",
    "print(dataset.shape) #(data_number,feature_number)"
   ]
  },
  {
   "cell_type": "markdown",
   "metadata": {},
   "source": [
    "# Split data into training and testing"
   ]
  },
  {
   "cell_type": "code",
   "execution_count": 7,
   "metadata": {},
   "outputs": [
    {
     "name": "stdout",
     "output_type": "stream",
     "text": [
      "[(1000, 2), (1000,)]\n"
     ]
    }
   ],
   "source": [
    "# Split the data, we will use first 2 columns as features and the 3rd columns as target.\n",
    "X = dataset[list(dataset.columns)[:-1]]\n",
    "Y = dataset[list(dataset.columns)[-1]]\n",
    "\n",
    "# As pointed out in previous lab, we need to add a constant feature\n",
    "intercept=np.ones((X.shape[0],1))\n",
    "X=np.concatenate((intercept,X),axis=1)\n",
    "\n",
    "# Split the data into training and testing(75% training and 25% testing data)\n",
    "xtrain,xtest,ytrain,ytest=train_test_split(X, Y, random_state=0)\n"
   ]
  },
  {
   "cell_type": "markdown",
   "metadata": {},
   "source": [
    "# Optimize using Gradient Descent Algorithm"
   ]
  },
  {
   "cell_type": "markdown",
   "metadata": {},
   "source": [
    "The cost function is defined as follows:\n",
    "\\begin{align}\n",
    "J\\left(\\beta \\right) & =  {\\frac{1}{2n}}\\sum_{i=1}^n \\left(y_i - \\hat{y_i} \\right)^2\\\\\n",
    "\\end{align}\n",
    "or \n",
    "\\begin{align}\n",
    "J\\left(\\beta \\right) & =  {\\frac{1}{2n}}SSR\\left(y_i,\\hat{y_i} \\right)\\end{align}\n",
    "\n",
    "You are asked to implement this cost function."
   ]
  },
  {
   "cell_type": "code",
   "execution_count": 13,
   "metadata": {},
   "outputs": [
    {
     "name": "stdout",
     "output_type": "stream",
     "text": [
      "2470.11\n"
     ]
    }
   ],
   "source": [
    "def cost_function(X, Y, beta):\n",
    "    n=X.shape[0]\n",
    "    J = np.sum((X.dot(beta) - Y) ** 2)/(2 * n)\n",
    "    return J\n",
    "\n",
    "# initialize B\n",
    "beta= np.zeros(3, dtype=float)\n",
    "\n",
    "# cal initial cost\n",
    "inital_cost = cost_function(X, Y, beta)\n",
    "print(inital_cost)"
   ]
  },
  {
   "cell_type": "markdown",
   "metadata": {},
   "source": [
    "**Gradient Descent Steps:**\n",
    "\n",
    "1. Initialize values:  \n",
    "   $$\\beta_0, \\beta_1, \\dots, \\beta_n$$  \n",
    "   It is suggested to initialize with 0.\n",
    "\n",
    "2. Iteratively update, until convergence:  \n",
    "   $$\\beta_j := \\beta_j - \\alpha \\frac{\\partial}{\\partial \\beta_j} J(\\beta)$$  \n",
    "\n",
    "   where $\\alpha$ is the learning rate.\n",
    "\n",
    "**Hint:** Step 2 function can also be written as:  \n",
    "   $$\\beta_j := \\beta_j - \\alpha \\frac{1}{n} \\sum_{i=1}^n \\left( \\hat{y}_i - y_i \\right) x_{ij}$$"
   ]
  },
  {
   "cell_type": "code",
   "execution_count": 14,
   "metadata": {},
   "outputs": [
    {
     "name": "stdout",
     "output_type": "stream",
     "text": [
      "[-0.47889172  0.09137252  0.90144884]\n",
      "10.475123473539167\n"
     ]
    }
   ],
   "source": [
    "def GDmultiLinparamEstimates(X, Y, beta, learning_rate, iterations):\n",
    "    cost_history = [0] * iterations  # 初始化代价历史记录列表，存储每次迭代的代价值\n",
    "    n = X.shape[0]  # 获取样本数量，用于梯度计算的归一化\n",
    "\n",
    "    for iteration in range(iterations):  # 进行指定次数的迭代\n",
    "        # 计算预测误差（损失）\n",
    "        loss = X.dot(beta) - Y  # 用当前参数计算预测值与实际值 Y 的差值，即损失\n",
    "\n",
    "        # 计算梯度\n",
    "        gradient = X.T.dot(loss)  # 通过特征矩阵 X 的转置与损失向量相乘，得到梯度值\n",
    "\n",
    "        # 更新 beta 参数\n",
    "        beta = beta - learning_rate * gradient / n  # 根据梯度下降公式更新 beta，每次减少一小步\n",
    "\n",
    "        # 计算当前迭代的代价函数值\n",
    "        cost = cost_function(X, Y, beta)  # 使用更新后的 beta 计算代价\n",
    "        cost_history[iteration] = cost  # 将当前代价值记录到代价历史列表中\n",
    "\n",
    "    return beta, cost_history  # 返回最终的 beta 值和整个迭代过程中的代价历史\n",
    "\n",
    "# 设置迭代次数和学习率\n",
    "iterations = 100000  # 迭代次数\n",
    "learning_rate = 0.0001  # 学习率，即步长\n",
    "\n",
    "# 运行梯度下降算法，得到更新后的参数和代价历史\n",
    "newB, cost_history = GDmultiLinparamEstimates(X, Y, beta, learning_rate, iterations)\n",
    "\n",
    "# 输出更新后的 beta 参数值\n",
    "print(newB)\n",
    "\n",
    "# 输出最终的代价值（即最后一次迭代的代价）\n",
    "print(cost_history[-1])"
   ]
  },
  {
   "cell_type": "code",
   "execution_count": 11,
   "metadata": {},
   "outputs": [
    {
     "data": {
      "image/png": "[encoded data removed]",
      "text/plain": [
       "<Figure size 1000x600 with 1 Axes>"
      ]
     },
     "metadata": {},
     "output_type": "display_data"
    }
   ],
   "source": [
    "import matplotlib.pyplot as plt\n",
    "\n",
    "# 绘制学习曲线\n",
    "def plot_learning_curve(cost_history):\n",
    "    plt.figure(figsize=(10, 6))\n",
    "    plt.plot(range(len(cost_history)), cost_history, color='b')\n",
    "    plt.xlabel('Iterations')  # 横坐标为迭代次数\n",
    "    plt.ylabel('Cost (J)')  # 纵坐标为代价函数值\n",
    "    plt.title('Learning Curve')  # 图标题\n",
    "    plt.grid()\n",
    "    plt.show()\n",
    "\n",
    "# 调用绘图函数\n",
    "plot_learning_curve(cost_history)"
   ]
  },
  {
   "cell_type": "markdown",
   "metadata": {},
   "source": [
    "The final hypothesis for the whole dataset (i.e. X and Y as defined above) should be:\n",
    "\\begin{align}\n",
    "y & = -0.47889172 + 0.09137252*x_1 + 0.90144884*x_2\n",
    "\\end{align}"
   ]
  },
  {
   "cell_type": "markdown",
   "metadata": {},
   "source": [
    "# Congrat! "
   ]
  },
  {
   "cell_type": "markdown",
   "metadata": {},
   "source": [
    "Now, you have learned how to implement multivariate regression algorithm using gradient descent method. The next step would be to test your algorithm on test dataset, which we encourage you to do it yourself given the experience in previous lab."
   ]
  },
  {
   "cell_type": "code",
   "execution_count": null,
   "metadata": {},
   "outputs": [],
   "source": []
  }
 ],
 "metadata": {
  "anaconda-cloud": {},
  "kernelspec": {
   "display_name": "Python 3",
   "language": "python",
   "name": "python3"
  },
  "language_info": {
   "codemirror_mode": {
    "name": "ipython",
    "version": 3
   },
   "file_extension": ".py",
   "mimetype": "text/x-python",
   "name": "python",
   "nbconvert_exporter": "python",
   "pygments_lexer": "ipython3",
   "version": "3.12.7"
  }
 },
 "nbformat": 4,
 "nbformat_minor": 1
}
